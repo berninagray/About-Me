{
  "nbformat": 4,
  "nbformat_minor": 0,
  "metadata": {
    "colab": {
      "provenance": [],
      "authorship_tag": "ABX9TyOPRJAFKd3fEO0ONuHnStr6",
      "include_colab_link": true
    },
    "kernelspec": {
      "name": "python3",
      "display_name": "Python 3"
    },
    "language_info": {
      "name": "python"
    }
  },
  "cells": [
    {
      "cell_type": "markdown",
      "metadata": {
        "id": "view-in-github",
        "colab_type": "text"
      },
      "source": [
        "<a href=\"https://colab.research.google.com/github/berninagray/About-Me/blob/main/About_Me.ipynb\" target=\"_parent\"><img src=\"https://colab.research.google.com/assets/colab-badge.svg\" alt=\"Open In Colab\"/></a>"
      ]
    },
    {
      "cell_type": "markdown",
      "source": [
        "# About Me"
      ],
      "metadata": {
        "id": "EJOSjfVwhP2W"
      }
    },
    {
      "cell_type": "markdown",
      "source": [
        "## Bernina Gray"
      ],
      "metadata": {
        "id": "DdcPAiNChmxi"
      }
    },
    {
      "cell_type": "markdown",
      "source": [
        "- I signed up for the Data Science Boot Camp because I would like to use the knowledge I gain to explore data for Native American communities, which is highly underserved due to lack of data compilation."
      ],
      "metadata": {
        "id": "Fdrf6xjgh0ac"
      }
    },
    {
      "cell_type": "markdown",
      "source": [
        "- If I had my human body, but the head of an animal I would choose a giraffe so I can see over crowds. Hahaha"
      ],
      "metadata": {
        "id": "DwnHq_z_ia2y"
      }
    },
    {
      "cell_type": "markdown",
      "source": [
        "- If I had to delete all but 3 apps on my phone, I would keep Phone, Messages, and a browser. "
      ],
      "metadata": {
        "id": "7S8NlzExi-Ra"
      }
    },
    {
      "cell_type": "markdown",
      "source": [
        "- As a kid, if I did anything wrong, my siblings and I all got in trouble so it was no use blaming one person. "
      ],
      "metadata": {
        "id": "-qZxSRhXjGdO"
      }
    },
    {
      "cell_type": "markdown",
      "source": [
        "- I don't really do favorite anything, but I do enjoy podcasts like Native America Calling, The Freelancer Podcast, and Python for Everybody. "
      ],
      "metadata": {
        "id": "vrhI44wTjP20"
      }
    },
    {
      "cell_type": "markdown",
      "source": [
        "I play full-contact tackle football for fun. I play middle linebacker."
      ],
      "metadata": {
        "id": "DVcFCNx_s2rV"
      }
    },
    {
      "cell_type": "markdown",
      "source": [
        "I play full-contact football for fun. I play the linebacker position. \n",
        "Here is a photo of me ready to play middle linebacker right before a play against the offense in a football game: \n",
        "\n",
        "https://drive.google.com/file/d/1unklbJfUXTGKK_OpJ0bEmuE0QXxvstCC/view?usp=sharing"
      ],
      "metadata": {
        "id": "e5GWjBdksz2p"
      }
    },
    {
      "cell_type": "code",
      "source": [],
      "metadata": {
        "id": "dWSQn4g6waZa"
      },
      "execution_count": null,
      "outputs": []
    }
  ]
}